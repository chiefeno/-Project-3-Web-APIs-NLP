{
 "cells": [
  {
   "cell_type": "markdown",
   "metadata": {},
   "source": [
    "# Project 3"
   ]
  },
  {
   "cell_type": "markdown",
   "metadata": {},
   "source": [
    "## Problem Statement:"
   ]
  },
  {
   "cell_type": "markdown",
   "metadata": {},
   "source": [
    "I have been hired by a new company that is trying to develop a tool to predict customers gender based on comments/reviews in order to develop their marketing intelligence. I chose to study two gender based subreddits(AskMen/AskWomen) and to build a model to see if there is a recognizable pattern and the actual ability to predict the gender of an author online."
   ]
  },
  {
   "cell_type": "markdown",
   "metadata": {},
   "source": [
    "## Imports"
   ]
  },
  {
   "cell_type": "code",
   "execution_count": 98,
   "metadata": {},
   "outputs": [],
   "source": [
    "import requests\n",
    "import pandas as pd\n",
    "import matplotlib.pyplot as plt\n",
    "import seaborn as sns\n",
    "import time\n",
    "from sklearn.feature_extraction.text import CountVectorizer\n",
    "from nltk.corpus import stopwords\n",
    "from sklearn.feature_extraction.text import TfidfVectorizer"
   ]
  },
  {
   "cell_type": "markdown",
   "metadata": {},
   "source": [
    "## Data Collection"
   ]
  },
  {
   "cell_type": "markdown",
   "metadata": {},
   "source": [
    "In order to build a model; I first need to gather some data. I will scrape some post from two subreddits: AskMen and AskWomen that are clearly gender based. I Use the pushshift API to gather the data."
   ]
  },
  {
   "cell_type": "markdown",
   "metadata": {},
   "source": [
    "My plan is to get 2000 post from each subreddit but since the pushshift API limit you to a 100 posts per request, I'll write a function to get more data with a timer built-in to avoid overloading the requests."
   ]
  },
  {
   "cell_type": "markdown",
   "metadata": {},
   "source": [
    "A request will give me the maximum 100 posts and in order to get the 100 posts before I'll need the utc time of the least recent post which I figured was the post[99]:"
   ]
  },
  {
   "cell_type": "markdown",
   "metadata": {},
   "source": [
    "I can now write a proper function:"
   ]
  },
  {
   "cell_type": "code",
   "execution_count": 2,
   "metadata": {},
   "outputs": [],
   "source": [
    "def get_posts(sub_name, n):\n",
    "    posts_list = []\n",
    "    for i in range(0, n):\n",
    "        \n",
    "        if i == 0:\n",
    "            url = 'https://api.pushshift.io/reddit/search/submission'\n",
    "            params = {'subreddit': sub_name, 'size': 100}\n",
    "            res = requests.get(url, params)\n",
    "            data = res.json()\n",
    "            posts = data['data']\n",
    "            posts_list.append(posts)\n",
    "        else:\n",
    "            timecode = posts[99]['created_utc']\n",
    "            url = 'https://api.pushshift.io/reddit/search/submission'\n",
    "            params = {'subreddit': sub_name, 'size': 100, 'before': timecode}\n",
    "            res = requests.get(url, params)\n",
    "            data = res.json()\n",
    "            posts = data['data']\n",
    "            posts_list.append(posts)\n",
    "            time.sleep(5)\n",
    "    return posts_list\n",
    "            "
   ]
  },
  {
   "cell_type": "code",
   "execution_count": 3,
   "metadata": {},
   "outputs": [],
   "source": [
    "Ask_men_posts = get_posts('AskMen', 20)"
   ]
  },
  {
   "cell_type": "code",
   "execution_count": 4,
   "metadata": {},
   "outputs": [
    {
     "data": {
      "text/plain": [
       "20"
      ]
     },
     "execution_count": 4,
     "metadata": {},
     "output_type": "execute_result"
    }
   ],
   "source": [
    "len(Ask_men_posts)"
   ]
  },
  {
   "cell_type": "markdown",
   "metadata": {},
   "source": [
    "With that function, the result is a list of 20 lists of a 100 posts each. I can now make 20 dataframes of 100 posts and merge them together"
   ]
  },
  {
   "cell_type": "code",
   "execution_count": 5,
   "metadata": {},
   "outputs": [],
   "source": [
    "df_1 = pd.DataFrame(Ask_men_posts[0])\n",
    "df_2 = pd.DataFrame(Ask_men_posts[1])\n",
    "df_3 = pd.DataFrame(Ask_men_posts[2])\n",
    "df_4 = pd.DataFrame(Ask_men_posts[3])\n",
    "df_5 = pd.DataFrame(Ask_men_posts[4])\n",
    "df_6 = pd.DataFrame(Ask_men_posts[5])\n",
    "df_7 = pd.DataFrame(Ask_men_posts[6])\n",
    "df_8 = pd.DataFrame(Ask_men_posts[7])\n",
    "df_9 = pd.DataFrame(Ask_men_posts[8])\n",
    "df_10 = pd.DataFrame(Ask_men_posts[9])\n",
    "df_11 = pd.DataFrame(Ask_men_posts[10])\n",
    "df_12 = pd.DataFrame(Ask_men_posts[11])\n",
    "df_13 = pd.DataFrame(Ask_men_posts[12])\n",
    "df_14 = pd.DataFrame(Ask_men_posts[13])\n",
    "df_15 = pd.DataFrame(Ask_men_posts[14])\n",
    "df_16 = pd.DataFrame(Ask_men_posts[15])\n",
    "df_17 = pd.DataFrame(Ask_men_posts[16])\n",
    "df_18 = pd.DataFrame(Ask_men_posts[17])\n",
    "df_19 = pd.DataFrame(Ask_men_posts[18])\n",
    "df_20 = pd.DataFrame(Ask_men_posts[19])"
   ]
  },
  {
   "cell_type": "code",
   "execution_count": 6,
   "metadata": {},
   "outputs": [],
   "source": [
    "men_dataframes = [df_1,df_2,df_3,df_4,df_5,df_6,df_7,\n",
    "                 df_8,df_9,df_10,df_11,df_12,df_13,df_14,\n",
    "                  df_15,df_16,df_17,df_18,df_19,df_20]"
   ]
  },
  {
   "cell_type": "code",
   "execution_count": 7,
   "metadata": {},
   "outputs": [],
   "source": [
    "ask_men_df = pd.concat(men_dataframes)"
   ]
  },
  {
   "cell_type": "code",
   "execution_count": 8,
   "metadata": {},
   "outputs": [
    {
     "data": {
      "text/plain": [
       "(2000, 66)"
      ]
     },
     "execution_count": 8,
     "metadata": {},
     "output_type": "execute_result"
    }
   ],
   "source": [
    "ask_men_df.shape"
   ]
  },
  {
   "cell_type": "markdown",
   "metadata": {},
   "source": [
    "Let's save this dataframe to a csv file before I proceed to the AskWomen subreddit"
   ]
  },
  {
   "cell_type": "code",
   "execution_count": 9,
   "metadata": {},
   "outputs": [],
   "source": [
    "ask_men_df.to_csv('data/askmen_df')"
   ]
  },
  {
   "cell_type": "markdown",
   "metadata": {},
   "source": [
    "Now let's gather 2000 posts from the AskWomen subreddit using the function created above"
   ]
  },
  {
   "cell_type": "code",
   "execution_count": 11,
   "metadata": {},
   "outputs": [],
   "source": [
    "Ask_women_posts = get_posts('AskWomen', 20)"
   ]
  },
  {
   "cell_type": "code",
   "execution_count": 12,
   "metadata": {},
   "outputs": [
    {
     "data": {
      "text/plain": [
       "20"
      ]
     },
     "execution_count": 12,
     "metadata": {},
     "output_type": "execute_result"
    }
   ],
   "source": [
    "len(Ask_women_posts)"
   ]
  },
  {
   "cell_type": "markdown",
   "metadata": {},
   "source": [
    "Now I can convert the 20 lists into 20 dataframes and merge them together"
   ]
  },
  {
   "cell_type": "code",
   "execution_count": 13,
   "metadata": {},
   "outputs": [],
   "source": [
    "df_21 = pd.DataFrame(Ask_women_posts[0])\n",
    "df_22 = pd.DataFrame(Ask_women_posts[1])\n",
    "df_23 = pd.DataFrame(Ask_women_posts[2])\n",
    "df_24 = pd.DataFrame(Ask_women_posts[3])\n",
    "df_25 = pd.DataFrame(Ask_women_posts[4])\n",
    "df_26 = pd.DataFrame(Ask_women_posts[5])\n",
    "df_27 = pd.DataFrame(Ask_women_posts[6])\n",
    "df_28 = pd.DataFrame(Ask_women_posts[7])\n",
    "df_29 = pd.DataFrame(Ask_women_posts[8])\n",
    "df_30 = pd.DataFrame(Ask_women_posts[9])\n",
    "df_31 = pd.DataFrame(Ask_women_posts[10])\n",
    "df_32 = pd.DataFrame(Ask_women_posts[11])\n",
    "df_33 = pd.DataFrame(Ask_women_posts[12])\n",
    "df_34 = pd.DataFrame(Ask_women_posts[13])\n",
    "df_35 = pd.DataFrame(Ask_women_posts[14])\n",
    "df_36 = pd.DataFrame(Ask_women_posts[15])\n",
    "df_37 = pd.DataFrame(Ask_women_posts[16])\n",
    "df_38 = pd.DataFrame(Ask_women_posts[17])\n",
    "df_39 = pd.DataFrame(Ask_women_posts[18])\n",
    "df_40 = pd.DataFrame(Ask_women_posts[19])"
   ]
  },
  {
   "cell_type": "code",
   "execution_count": 14,
   "metadata": {},
   "outputs": [],
   "source": [
    "women_dataframes = [df_21, df_22, df_23, df_24, df_25, df_26,\n",
    "                   df_27, df_28, df_29, df_30, df_31, df_32,\n",
    "                   df_33, df_34, df_35, df_36, df_37, df_38,\n",
    "                   df_39, df_40]"
   ]
  },
  {
   "cell_type": "code",
   "execution_count": 15,
   "metadata": {},
   "outputs": [],
   "source": [
    "ask_women_df = pd.concat(women_dataframes)"
   ]
  },
  {
   "cell_type": "code",
   "execution_count": 16,
   "metadata": {},
   "outputs": [
    {
     "data": {
      "text/plain": [
       "(2000, 70)"
      ]
     },
     "execution_count": 16,
     "metadata": {},
     "output_type": "execute_result"
    }
   ],
   "source": [
    "ask_women_df.shape"
   ]
  },
  {
   "cell_type": "markdown",
   "metadata": {},
   "source": [
    "We can save this dataframe to a csv file now:"
   ]
  },
  {
   "cell_type": "code",
   "execution_count": 17,
   "metadata": {},
   "outputs": [],
   "source": [
    "ask_women_df.to_csv('data/askwomen_df')"
   ]
  },
  {
   "cell_type": "markdown",
   "metadata": {},
   "source": [
    "I have now two dataframes with 2000 posts each from the two subreddit: AskMen and AskWomen. Now, in order to build a model and determine if the author of a new post is a man or woman, I will need to merge these two dataframes together.\n",
    "I noticed that the ask_men_df has 66 columns and the ask_women_df has 71 columns. To merge the two dataframes together I will need to delete the extra columns in the women dataframes first.\n",
    "Let's analyze the columns in both dataframes to see which ones they have in common :"
   ]
  },
  {
   "cell_type": "code",
   "execution_count": 18,
   "metadata": {},
   "outputs": [
    {
     "data": {
      "text/plain": [
       "Index(['all_awardings', 'allow_live_comments', 'author',\n",
       "       'author_flair_css_class', 'author_flair_richtext', 'author_flair_text',\n",
       "       'author_flair_type', 'author_fullname', 'author_patreon_flair',\n",
       "       'author_premium', 'awarders', 'can_mod_post', 'contest_mode',\n",
       "       'created_utc', 'domain', 'full_link', 'gildings', 'id',\n",
       "       'is_crosspostable', 'is_meta', 'is_original_content',\n",
       "       'is_reddit_media_domain', 'is_robot_indexable', 'is_self', 'is_video',\n",
       "       'link_flair_background_color', 'link_flair_richtext',\n",
       "       'link_flair_text_color', 'link_flair_type', 'locked', 'media_only',\n",
       "       'no_follow', 'num_comments', 'num_crossposts', 'over_18',\n",
       "       'parent_whitelist_status', 'permalink', 'pinned', 'pwls',\n",
       "       'retrieved_on', 'score', 'selftext', 'send_replies', 'spoiler',\n",
       "       'stickied', 'subreddit', 'subreddit_id', 'subreddit_subscribers',\n",
       "       'subreddit_type', 'thumbnail', 'title', 'total_awards_received',\n",
       "       'treatment_tags', 'upvote_ratio', 'url', 'whitelist_status', 'wls',\n",
       "       'removed_by_category', 'post_hint', 'preview',\n",
       "       'author_flair_background_color', 'author_flair_text_color', 'banned_by',\n",
       "       'author_flair_template_id', 'author_cakeday', 'edited'],\n",
       "      dtype='object')"
      ]
     },
     "execution_count": 18,
     "metadata": {},
     "output_type": "execute_result"
    }
   ],
   "source": [
    "ask_men_df.columns"
   ]
  },
  {
   "cell_type": "code",
   "execution_count": 19,
   "metadata": {},
   "outputs": [
    {
     "data": {
      "text/plain": [
       "Index(['all_awardings', 'allow_live_comments', 'author',\n",
       "       'author_flair_css_class', 'author_flair_richtext', 'author_flair_text',\n",
       "       'author_flair_type', 'author_fullname', 'author_patreon_flair',\n",
       "       'author_premium', 'awarders', 'can_mod_post', 'contest_mode',\n",
       "       'created_utc', 'domain', 'full_link', 'gildings', 'id',\n",
       "       'is_crosspostable', 'is_meta', 'is_original_content',\n",
       "       'is_reddit_media_domain', 'is_robot_indexable', 'is_self', 'is_video',\n",
       "       'link_flair_background_color', 'link_flair_richtext',\n",
       "       'link_flair_text_color', 'link_flair_type', 'locked', 'media_only',\n",
       "       'no_follow', 'num_comments', 'num_crossposts', 'over_18',\n",
       "       'parent_whitelist_status', 'permalink', 'pinned', 'pwls',\n",
       "       'removed_by_category', 'retrieved_on', 'score', 'selftext',\n",
       "       'send_replies', 'spoiler', 'stickied', 'subreddit', 'subreddit_id',\n",
       "       'subreddit_subscribers', 'subreddit_type', 'suggested_sort',\n",
       "       'thumbnail', 'title', 'total_awards_received', 'treatment_tags',\n",
       "       'upvote_ratio', 'url', 'whitelist_status', 'wls', 'author_cakeday',\n",
       "       'post_hint', 'preview', 'author_flair_template_id',\n",
       "       'author_flair_text_color', 'author_flair_background_color', 'banned_by',\n",
       "       'edited', 'link_flair_template_id', 'link_flair_text',\n",
       "       'link_flair_css_class'],\n",
       "      dtype='object')"
      ]
     },
     "execution_count": 19,
     "metadata": {},
     "output_type": "execute_result"
    }
   ],
   "source": [
    "ask_women_df.columns"
   ]
  },
  {
   "cell_type": "markdown",
   "metadata": {},
   "source": [
    "I looked for a solution on stack overflow to find the non-common elements in two list:\n",
    "https://stackoverflow.com/questions/11348347/find-non-common-elements-in-lists"
   ]
  },
  {
   "cell_type": "code",
   "execution_count": 20,
   "metadata": {},
   "outputs": [
    {
     "data": {
      "text/plain": [
       "{'link_flair_css_class',\n",
       " 'link_flair_template_id',\n",
       " 'link_flair_text',\n",
       " 'suggested_sort'}"
      ]
     },
     "execution_count": 20,
     "metadata": {},
     "output_type": "execute_result"
    }
   ],
   "source": [
    "set(ask_women_df.columns) ^ set(ask_men_df.columns)"
   ]
  },
  {
   "cell_type": "markdown",
   "metadata": {},
   "source": [
    "I can now drop these five columns from the askwomen dataframe:"
   ]
  },
  {
   "cell_type": "code",
   "execution_count": 21,
   "metadata": {},
   "outputs": [
    {
     "data": {
      "text/plain": [
       "(2000, 70)"
      ]
     },
     "execution_count": 21,
     "metadata": {},
     "output_type": "execute_result"
    }
   ],
   "source": [
    "ask_women_df.shape"
   ]
  },
  {
   "cell_type": "code",
   "execution_count": 22,
   "metadata": {},
   "outputs": [],
   "source": [
    "ask_women_df.drop(['link_flair_css_class', 'link_flair_template_id',\n",
    "                  'link_flair_text','suggested_sort'], axis=1, inplace= True)"
   ]
  },
  {
   "cell_type": "markdown",
   "metadata": {},
   "source": [
    "Now I can merge the askmen and askwomen together:"
   ]
  },
  {
   "cell_type": "code",
   "execution_count": 23,
   "metadata": {},
   "outputs": [],
   "source": [
    "subreddits_dataframe = pd.concat([ask_men_df, ask_women_df])"
   ]
  },
  {
   "cell_type": "code",
   "execution_count": 24,
   "metadata": {},
   "outputs": [
    {
     "data": {
      "text/plain": [
       "(4000, 66)"
      ]
     },
     "execution_count": 24,
     "metadata": {},
     "output_type": "execute_result"
    }
   ],
   "source": [
    "subreddits_dataframe.shape"
   ]
  },
  {
   "cell_type": "markdown",
   "metadata": {},
   "source": [
    "Now that I have the final dataframe, let's save it to a csv file before I start the cleaning process:"
   ]
  },
  {
   "cell_type": "code",
   "execution_count": 25,
   "metadata": {},
   "outputs": [],
   "source": [
    "subreddits_dataframe.to_csv('data/subreddits_df')"
   ]
  },
  {
   "cell_type": "markdown",
   "metadata": {},
   "source": [
    "## Data Cleaning"
   ]
  },
  {
   "cell_type": "markdown",
   "metadata": {},
   "source": [
    "The subreddits_dataframe has 66 columns presently but I only need a few for my analysis. In fact, I only need the author, title, post and the subreddit. Let's drop all the unnecessary columns:"
   ]
  },
  {
   "cell_type": "code",
   "execution_count": 26,
   "metadata": {},
   "outputs": [
    {
     "data": {
      "text/plain": [
       "Index(['all_awardings', 'allow_live_comments', 'author',\n",
       "       'author_flair_css_class', 'author_flair_richtext', 'author_flair_text',\n",
       "       'author_flair_type', 'author_fullname', 'author_patreon_flair',\n",
       "       'author_premium', 'awarders', 'can_mod_post', 'contest_mode',\n",
       "       'created_utc', 'domain', 'full_link', 'gildings', 'id',\n",
       "       'is_crosspostable', 'is_meta', 'is_original_content',\n",
       "       'is_reddit_media_domain', 'is_robot_indexable', 'is_self', 'is_video',\n",
       "       'link_flair_background_color', 'link_flair_richtext',\n",
       "       'link_flair_text_color', 'link_flair_type', 'locked', 'media_only',\n",
       "       'no_follow', 'num_comments', 'num_crossposts', 'over_18',\n",
       "       'parent_whitelist_status', 'permalink', 'pinned', 'pwls',\n",
       "       'retrieved_on', 'score', 'selftext', 'send_replies', 'spoiler',\n",
       "       'stickied', 'subreddit', 'subreddit_id', 'subreddit_subscribers',\n",
       "       'subreddit_type', 'thumbnail', 'title', 'total_awards_received',\n",
       "       'treatment_tags', 'upvote_ratio', 'url', 'whitelist_status', 'wls',\n",
       "       'removed_by_category', 'post_hint', 'preview',\n",
       "       'author_flair_background_color', 'author_flair_text_color', 'banned_by',\n",
       "       'author_flair_template_id', 'author_cakeday', 'edited'],\n",
       "      dtype='object')"
      ]
     },
     "execution_count": 26,
     "metadata": {},
     "output_type": "execute_result"
    }
   ],
   "source": [
    "subreddits_dataframe.columns"
   ]
  },
  {
   "cell_type": "code",
   "execution_count": 27,
   "metadata": {},
   "outputs": [],
   "source": [
    "pd.set_option('display.max_columns', None)\n",
    "pd.set_option('display.max_rows', None)"
   ]
  },
  {
   "cell_type": "markdown",
   "metadata": {},
   "source": [
    "I realized that all the posts are under the 'selftext' column."
   ]
  },
  {
   "cell_type": "code",
   "execution_count": 28,
   "metadata": {},
   "outputs": [],
   "source": [
    "columns_dropped = ['all_awardings', 'allow_live_comments', 'author_flair_css_class',\n",
    "                  'author_flair_richtext','author_flair_text', 'author_flair_type', 'author_fullname',\n",
    "                  'author_patreon_flair','author_premium', 'awarders', 'can_mod_post', 'contest_mode',\n",
    "                  'created_utc', 'domain', 'full_link', 'gildings', 'id','is_crosspostable', 'is_meta',\n",
    "                  'is_original_content', 'is_reddit_media_domain', 'is_robot_indexable', 'is_self',\n",
    "                  'is_video', 'link_flair_background_color', 'link_flair_richtext','link_flair_text_color',\n",
    "                  'link_flair_type', 'locked', 'media_only','no_follow', 'num_comments', 'num_crossposts',\n",
    "                  'over_18', 'parent_whitelist_status', 'permalink', 'pinned', 'pwls','retrieved_on','score',\n",
    "                  'send_replies', 'spoiler','stickied','subreddit_id', 'subreddit_subscribers','subreddit_type',\n",
    "                  'thumbnail','total_awards_received','treatment_tags','upvote_ratio', 'url', 'whitelist_status', \n",
    "                  'wls','removed_by_category', 'post_hint', 'preview','author_flair_background_color', \n",
    "                  'author_flair_text_color', 'banned_by','author_flair_template_id', 'author_cakeday', 'edited']"
   ]
  },
  {
   "cell_type": "code",
   "execution_count": 29,
   "metadata": {},
   "outputs": [],
   "source": [
    "subreddits_dataframe.drop(columns_dropped, axis= 1, inplace=True)"
   ]
  },
  {
   "cell_type": "code",
   "execution_count": 30,
   "metadata": {},
   "outputs": [
    {
     "data": {
      "text/html": [
       "<div>\n",
       "<style scoped>\n",
       "    .dataframe tbody tr th:only-of-type {\n",
       "        vertical-align: middle;\n",
       "    }\n",
       "\n",
       "    .dataframe tbody tr th {\n",
       "        vertical-align: top;\n",
       "    }\n",
       "\n",
       "    .dataframe thead th {\n",
       "        text-align: right;\n",
       "    }\n",
       "</style>\n",
       "<table border=\"1\" class=\"dataframe\">\n",
       "  <thead>\n",
       "    <tr style=\"text-align: right;\">\n",
       "      <th></th>\n",
       "      <th>author</th>\n",
       "      <th>selftext</th>\n",
       "      <th>subreddit</th>\n",
       "      <th>title</th>\n",
       "    </tr>\n",
       "  </thead>\n",
       "  <tbody>\n",
       "    <tr>\n",
       "      <th>0</th>\n",
       "      <td>Luk42_H4hn</td>\n",
       "      <td></td>\n",
       "      <td>AskMen</td>\n",
       "      <td>Men of reddit, when you jerk into a towel or s...</td>\n",
       "    </tr>\n",
       "    <tr>\n",
       "      <th>1</th>\n",
       "      <td>YoPierre_</td>\n",
       "      <td>[removed]</td>\n",
       "      <td>AskMen</td>\n",
       "      <td>How do i get over my ex</td>\n",
       "    </tr>\n",
       "    <tr>\n",
       "      <th>2</th>\n",
       "      <td>Luk42_H4hn</td>\n",
       "      <td></td>\n",
       "      <td>AskMen</td>\n",
       "      <td>Men of reddit, when your gf is giving you a ha...</td>\n",
       "    </tr>\n",
       "    <tr>\n",
       "      <th>3</th>\n",
       "      <td>RebeliciousCupcake</td>\n",
       "      <td>[removed]</td>\n",
       "      <td>AskMen</td>\n",
       "      <td>Looking at other men</td>\n",
       "    </tr>\n",
       "    <tr>\n",
       "      <th>4</th>\n",
       "      <td>Penguins-can-fly</td>\n",
       "      <td>[removed]</td>\n",
       "      <td>AskMen</td>\n",
       "      <td>Why am i unable to feel satisfaction during se...</td>\n",
       "    </tr>\n",
       "  </tbody>\n",
       "</table>\n",
       "</div>"
      ],
      "text/plain": [
       "               author   selftext subreddit  \\\n",
       "0          Luk42_H4hn               AskMen   \n",
       "1           YoPierre_  [removed]    AskMen   \n",
       "2          Luk42_H4hn               AskMen   \n",
       "3  RebeliciousCupcake  [removed]    AskMen   \n",
       "4    Penguins-can-fly  [removed]    AskMen   \n",
       "\n",
       "                                               title  \n",
       "0  Men of reddit, when you jerk into a towel or s...  \n",
       "1                            How do i get over my ex  \n",
       "2  Men of reddit, when your gf is giving you a ha...  \n",
       "3                               Looking at other men  \n",
       "4  Why am i unable to feel satisfaction during se...  "
      ]
     },
     "execution_count": 30,
     "metadata": {},
     "output_type": "execute_result"
    }
   ],
   "source": [
    "subreddits_dataframe.head(5)"
   ]
  },
  {
   "cell_type": "markdown",
   "metadata": {},
   "source": [
    "Before I take care of other issues, I choose to rearrange the columns:"
   ]
  },
  {
   "cell_type": "code",
   "execution_count": 31,
   "metadata": {},
   "outputs": [],
   "source": [
    "subreddits_dataframe = subreddits_dataframe[['author','title','selftext','subreddit']]"
   ]
  },
  {
   "cell_type": "markdown",
   "metadata": {},
   "source": [
    "I can already spot one issue with the selftext columns. A lot of post have a '[removed]' value. Let's check if the dataframe contains any null values or duplicate first:"
   ]
  },
  {
   "cell_type": "code",
   "execution_count": 32,
   "metadata": {},
   "outputs": [
    {
     "data": {
      "text/plain": [
       "author         0\n",
       "title          0\n",
       "selftext     114\n",
       "subreddit      0\n",
       "dtype: int64"
      ]
     },
     "execution_count": 32,
     "metadata": {},
     "output_type": "execute_result"
    }
   ],
   "source": [
    "subreddits_dataframe.isnull().sum()"
   ]
  },
  {
   "cell_type": "markdown",
   "metadata": {},
   "source": [
    "As anticipated, the selftext column has a lot of null values and a lot of '[removed]'. If I sum those two situations and decide to drop all these row, I can potentially lose a major part of my dataframe. The selftext and the title go together. Sometimes the title already contains all the information and other times it is just a title and the selftext is actually the content of the post. The logical thing to do would be to replace all the '[removed]' values with a blank text and then combine the title and selftext column:"
   ]
  },
  {
   "cell_type": "code",
   "execution_count": 33,
   "metadata": {},
   "outputs": [],
   "source": [
    "subreddits_dataframe['selftext'] = subreddits_dataframe['selftext'].replace(['[removed]'],'')"
   ]
  },
  {
   "cell_type": "markdown",
   "metadata": {},
   "source": [
    "Now I can create a column called 'post' which would be a combination of the title column and the selftext column:"
   ]
  },
  {
   "cell_type": "code",
   "execution_count": 34,
   "metadata": {},
   "outputs": [],
   "source": [
    "subreddits_dataframe['post'] = subreddits_dataframe['title'] + ' ' + subreddits_dataframe['selftext']"
   ]
  },
  {
   "cell_type": "markdown",
   "metadata": {},
   "source": [
    "Now I'm going to drop the title and selftext column and rearrange the order of the columns once again"
   ]
  },
  {
   "cell_type": "code",
   "execution_count": 35,
   "metadata": {},
   "outputs": [],
   "source": [
    "subreddits_dataframe.drop(['title', 'selftext'], axis= 1, inplace=True)"
   ]
  },
  {
   "cell_type": "code",
   "execution_count": 36,
   "metadata": {},
   "outputs": [],
   "source": [
    "subreddits_dataframe = subreddits_dataframe[['author','post','subreddit']]"
   ]
  },
  {
   "cell_type": "markdown",
   "metadata": {},
   "source": [
    "Let's see if the dataframe still has some null values:"
   ]
  },
  {
   "cell_type": "code",
   "execution_count": 37,
   "metadata": {},
   "outputs": [
    {
     "data": {
      "text/plain": [
       "author         0\n",
       "post         114\n",
       "subreddit      0\n",
       "dtype: int64"
      ]
     },
     "execution_count": 37,
     "metadata": {},
     "output_type": "execute_result"
    }
   ],
   "source": [
    "subreddits_dataframe.isnull().sum()"
   ]
  },
  {
   "cell_type": "markdown",
   "metadata": {},
   "source": [
    "I think I can drop those nulls with confidence because I took care of the removed values and 114 is only 2.85% of the total rows"
   ]
  },
  {
   "cell_type": "code",
   "execution_count": 38,
   "metadata": {},
   "outputs": [],
   "source": [
    "subreddits_dataframe.dropna(inplace=True)"
   ]
  },
  {
   "cell_type": "markdown",
   "metadata": {},
   "source": [
    "I can now look closer to the post column and check if there are many duplicates; I used this source for reference:\n",
    "https://thispointer.com/pandas-find-duplicate-rows-in-a-dataframe-based-on-all-or-selected-columns-using-dataframe-duplicated-in-python/"
   ]
  },
  {
   "cell_type": "code",
   "execution_count": 39,
   "metadata": {
    "scrolled": false
   },
   "outputs": [
    {
     "data": {
      "text/html": [
       "<div>\n",
       "<style scoped>\n",
       "    .dataframe tbody tr th:only-of-type {\n",
       "        vertical-align: middle;\n",
       "    }\n",
       "\n",
       "    .dataframe tbody tr th {\n",
       "        vertical-align: top;\n",
       "    }\n",
       "\n",
       "    .dataframe thead th {\n",
       "        text-align: right;\n",
       "    }\n",
       "</style>\n",
       "<table border=\"1\" class=\"dataframe\">\n",
       "  <thead>\n",
       "    <tr style=\"text-align: right;\">\n",
       "      <th></th>\n",
       "      <th>author</th>\n",
       "      <th>post</th>\n",
       "      <th>subreddit</th>\n",
       "    </tr>\n",
       "  </thead>\n",
       "  <tbody>\n",
       "    <tr>\n",
       "      <th>20</th>\n",
       "      <td>Great_Classic_2804</td>\n",
       "      <td>I've lost myself in my relationship. Feel like...</td>\n",
       "      <td>AskMen</td>\n",
       "    </tr>\n",
       "    <tr>\n",
       "      <th>58</th>\n",
       "      <td>sufy12</td>\n",
       "      <td>Have you ever been caught masturbating?</td>\n",
       "      <td>AskMen</td>\n",
       "    </tr>\n",
       "    <tr>\n",
       "      <th>42</th>\n",
       "      <td>h3xadecimal2</td>\n",
       "      <td>AIs from AI Dungeon 2 to sexy to funny and one...</td>\n",
       "      <td>AskMen</td>\n",
       "    </tr>\n",
       "    <tr>\n",
       "      <th>44</th>\n",
       "      <td>h3xadecimal2</td>\n",
       "      <td>AIs from AI Dungeon 2 to sexy to funny and one...</td>\n",
       "      <td>AskMen</td>\n",
       "    </tr>\n",
       "    <tr>\n",
       "      <th>47</th>\n",
       "      <td>gay_gym_jock</td>\n",
       "      <td>In your experience, if you've gotten head from...</td>\n",
       "      <td>AskMen</td>\n",
       "    </tr>\n",
       "    <tr>\n",
       "      <th>13</th>\n",
       "      <td>vandamnitt</td>\n",
       "      <td>Guys I’ve been debating this with m wife for e...</td>\n",
       "      <td>AskMen</td>\n",
       "    </tr>\n",
       "    <tr>\n",
       "      <th>14</th>\n",
       "      <td>vandamnitt</td>\n",
       "      <td>Guys I’ve been debating this with m wife for e...</td>\n",
       "      <td>AskMen</td>\n",
       "    </tr>\n",
       "    <tr>\n",
       "      <th>53</th>\n",
       "      <td>fmu_rn</td>\n",
       "      <td>Why do guys like thighs?</td>\n",
       "      <td>AskMen</td>\n",
       "    </tr>\n",
       "    <tr>\n",
       "      <th>5</th>\n",
       "      <td>heartofrosegold0112</td>\n",
       "      <td>Is your right to use porn in a relationship a ...</td>\n",
       "      <td>AskMen</td>\n",
       "    </tr>\n",
       "    <tr>\n",
       "      <th>12</th>\n",
       "      <td>aliceinxxxxxxland</td>\n",
       "      <td>Would you give up porn for your perfect partner?</td>\n",
       "      <td>AskMen</td>\n",
       "    </tr>\n",
       "    <tr>\n",
       "      <th>22</th>\n",
       "      <td>anananas23</td>\n",
       "      <td>Do guys mind if a girl has zero experience wit...</td>\n",
       "      <td>AskMen</td>\n",
       "    </tr>\n",
       "    <tr>\n",
       "      <th>9</th>\n",
       "      <td>Thetreespeaks</td>\n",
       "      <td>Do you guys do skincare? (Female)</td>\n",
       "      <td>AskMen</td>\n",
       "    </tr>\n",
       "    <tr>\n",
       "      <th>52</th>\n",
       "      <td>kitten_0623</td>\n",
       "      <td>Car shopping</td>\n",
       "      <td>AskMen</td>\n",
       "    </tr>\n",
       "    <tr>\n",
       "      <th>2</th>\n",
       "      <td>haroldofthenorth</td>\n",
       "      <td>Does kissing count as cheating?</td>\n",
       "      <td>AskMen</td>\n",
       "    </tr>\n",
       "    <tr>\n",
       "      <th>16</th>\n",
       "      <td>I_NEED_ADVICE-</td>\n",
       "      <td>I’m 16 years old 6,3 and very skinny and need ...</td>\n",
       "      <td>AskMen</td>\n",
       "    </tr>\n",
       "    <tr>\n",
       "      <th>75</th>\n",
       "      <td>weekents</td>\n",
       "      <td>Would you date a girl who has an only fans?</td>\n",
       "      <td>AskMen</td>\n",
       "    </tr>\n",
       "    <tr>\n",
       "      <th>69</th>\n",
       "      <td>h3xadecimal2</td>\n",
       "      <td>AIs from AI Dungeon 2 to sexy to funny and one...</td>\n",
       "      <td>AskMen</td>\n",
       "    </tr>\n",
       "    <tr>\n",
       "      <th>29</th>\n",
       "      <td>Throwaway263970</td>\n",
       "      <td>Should I be concerned that I can’t pull back m...</td>\n",
       "      <td>AskMen</td>\n",
       "    </tr>\n",
       "    <tr>\n",
       "      <th>42</th>\n",
       "      <td>h3xadecimal2</td>\n",
       "      <td>AIs from AI Dungeon 2 to sexy to funny and one...</td>\n",
       "      <td>AskMen</td>\n",
       "    </tr>\n",
       "    <tr>\n",
       "      <th>88</th>\n",
       "      <td>proygratoke</td>\n",
       "      <td>To all the fathers of boys</td>\n",
       "      <td>AskMen</td>\n",
       "    </tr>\n",
       "    <tr>\n",
       "      <th>96</th>\n",
       "      <td>proygratoke</td>\n",
       "      <td>To all the fathers of boys</td>\n",
       "      <td>AskMen</td>\n",
       "    </tr>\n",
       "    <tr>\n",
       "      <th>19</th>\n",
       "      <td>proygratoke</td>\n",
       "      <td>To all the fathers of boys</td>\n",
       "      <td>AskMen</td>\n",
       "    </tr>\n",
       "    <tr>\n",
       "      <th>0</th>\n",
       "      <td>I_DontBeliveInGay</td>\n",
       "      <td>Am i a sosiopath/psycopath</td>\n",
       "      <td>AskMen</td>\n",
       "    </tr>\n",
       "    <tr>\n",
       "      <th>77</th>\n",
       "      <td>throwaway3981488</td>\n",
       "      <td>Do guys care about stretch marks and a little ...</td>\n",
       "      <td>AskMen</td>\n",
       "    </tr>\n",
       "    <tr>\n",
       "      <th>63</th>\n",
       "      <td>m3___x</td>\n",
       "      <td>Advice needed</td>\n",
       "      <td>AskMen</td>\n",
       "    </tr>\n",
       "    <tr>\n",
       "      <th>75</th>\n",
       "      <td>Great_Meat2971</td>\n",
       "      <td>I borrowed money from a wealthy friend, he sai...</td>\n",
       "      <td>AskMen</td>\n",
       "    </tr>\n",
       "    <tr>\n",
       "      <th>43</th>\n",
       "      <td>-chepo-</td>\n",
       "      <td>What’s a good hairstyle for a U-shaped recedin...</td>\n",
       "      <td>AskMen</td>\n",
       "    </tr>\n",
       "    <tr>\n",
       "      <th>11</th>\n",
       "      <td>NeckWestern5528</td>\n",
       "      <td>How crazy is too crazy??</td>\n",
       "      <td>AskMen</td>\n",
       "    </tr>\n",
       "    <tr>\n",
       "      <th>24</th>\n",
       "      <td>chizhi1234</td>\n",
       "      <td>Dear university students, have you ever feel l...</td>\n",
       "      <td>AskMen</td>\n",
       "    </tr>\n",
       "    <tr>\n",
       "      <th>45</th>\n",
       "      <td>h3xadecimal2</td>\n",
       "      <td>AIs from AI Dungeon 2 to sexy to funny and one...</td>\n",
       "      <td>AskMen</td>\n",
       "    </tr>\n",
       "    <tr>\n",
       "      <th>54</th>\n",
       "      <td>terriblelad</td>\n",
       "      <td>Men, have you ever felt guilty of carrying you...</td>\n",
       "      <td>AskMen</td>\n",
       "    </tr>\n",
       "    <tr>\n",
       "      <th>78</th>\n",
       "      <td>TalesFiction88</td>\n",
       "      <td>What makes you change your feeling towards a g...</td>\n",
       "      <td>AskMen</td>\n",
       "    </tr>\n",
       "    <tr>\n",
       "      <th>86</th>\n",
       "      <td>Murik0128</td>\n",
       "      <td>Making My Girlfriend Orgasm</td>\n",
       "      <td>AskMen</td>\n",
       "    </tr>\n",
       "    <tr>\n",
       "      <th>87</th>\n",
       "      <td>saltymarinara</td>\n",
       "      <td>Sincere question from a woman</td>\n",
       "      <td>AskMen</td>\n",
       "    </tr>\n",
       "    <tr>\n",
       "      <th>97</th>\n",
       "      <td>h3xadecimal2</td>\n",
       "      <td>AIs from AI Dungeon 2 to sexy to funny and one...</td>\n",
       "      <td>AskMen</td>\n",
       "    </tr>\n",
       "    <tr>\n",
       "      <th>12</th>\n",
       "      <td>maketobreak</td>\n",
       "      <td>Would you invite strangers for dinner to your ...</td>\n",
       "      <td>AskMen</td>\n",
       "    </tr>\n",
       "    <tr>\n",
       "      <th>82</th>\n",
       "      <td>speakwme</td>\n",
       "      <td>Is a threesome a bad idea for a loving marriage?</td>\n",
       "      <td>AskMen</td>\n",
       "    </tr>\n",
       "    <tr>\n",
       "      <th>7</th>\n",
       "      <td>inquisitiverobot</td>\n",
       "      <td>What is something that you wish was an actual ...</td>\n",
       "      <td>AskWomen</td>\n",
       "    </tr>\n",
       "    <tr>\n",
       "      <th>59</th>\n",
       "      <td>girl2021_</td>\n",
       "      <td>How many pairs of underwear do you own?</td>\n",
       "      <td>AskWomen</td>\n",
       "    </tr>\n",
       "    <tr>\n",
       "      <th>19</th>\n",
       "      <td>ytrace</td>\n",
       "      <td>What are some unusual jobs you have had?</td>\n",
       "      <td>AskWomen</td>\n",
       "    </tr>\n",
       "    <tr>\n",
       "      <th>92</th>\n",
       "      <td>fcukmoe</td>\n",
       "      <td>Why do people ghost???</td>\n",
       "      <td>AskWomen</td>\n",
       "    </tr>\n",
       "    <tr>\n",
       "      <th>22</th>\n",
       "      <td>hahaits2021</td>\n",
       "      <td>How has virtual therapy worked out for you?</td>\n",
       "      <td>AskWomen</td>\n",
       "    </tr>\n",
       "    <tr>\n",
       "      <th>50</th>\n",
       "      <td>vkzeff</td>\n",
       "      <td>Share your pleasing tweezer stories</td>\n",
       "      <td>AskWomen</td>\n",
       "    </tr>\n",
       "    <tr>\n",
       "      <th>64</th>\n",
       "      <td>After-Lavishness-584</td>\n",
       "      <td>How do you feel about men with unusually shape...</td>\n",
       "      <td>AskWomen</td>\n",
       "    </tr>\n",
       "    <tr>\n",
       "      <th>67</th>\n",
       "      <td>letsgetintoitken</td>\n",
       "      <td>What has been your experience with “pretty pri...</td>\n",
       "      <td>AskWomen</td>\n",
       "    </tr>\n",
       "    <tr>\n",
       "      <th>18</th>\n",
       "      <td>Amnesia_Dude</td>\n",
       "      <td>What is the best dating app/website just for g...</td>\n",
       "      <td>AskWomen</td>\n",
       "    </tr>\n",
       "    <tr>\n",
       "      <th>20</th>\n",
       "      <td>IN_A_WUHAN_LAB</td>\n",
       "      <td>What's been the funniest moment in your relati...</td>\n",
       "      <td>AskWomen</td>\n",
       "    </tr>\n",
       "    <tr>\n",
       "      <th>88</th>\n",
       "      <td>newtime9203</td>\n",
       "      <td>Why did I get blocked by my friend from school?</td>\n",
       "      <td>AskWomen</td>\n",
       "    </tr>\n",
       "    <tr>\n",
       "      <th>89</th>\n",
       "      <td>DiverseEthnic12</td>\n",
       "      <td>Why did I get blocked by my friend from school?</td>\n",
       "      <td>AskWomen</td>\n",
       "    </tr>\n",
       "    <tr>\n",
       "      <th>88</th>\n",
       "      <td>yenayer</td>\n",
       "      <td>يعاني البعض من بطء في استخدام جهاز الحاسوب ﻣﻊ ...</td>\n",
       "      <td>AskWomen</td>\n",
       "    </tr>\n",
       "    <tr>\n",
       "      <th>21</th>\n",
       "      <td>rx-78-9</td>\n",
       "      <td>How has the #metoo movement effected in your d...</td>\n",
       "      <td>AskWomen</td>\n",
       "    </tr>\n",
       "    <tr>\n",
       "      <th>65</th>\n",
       "      <td>quizbeexyz</td>\n",
       "      <td>What if we give Free 1000 premium accounts (Ag...</td>\n",
       "      <td>AskWomen</td>\n",
       "    </tr>\n",
       "    <tr>\n",
       "      <th>77</th>\n",
       "      <td>GreenScrubzor</td>\n",
       "      <td>What should I do?</td>\n",
       "      <td>AskWomen</td>\n",
       "    </tr>\n",
       "    <tr>\n",
       "      <th>18</th>\n",
       "      <td>beautiful_so_much</td>\n",
       "      <td>How to avoid family that is physically and men...</td>\n",
       "      <td>AskWomen</td>\n",
       "    </tr>\n",
       "    <tr>\n",
       "      <th>28</th>\n",
       "      <td>junglemango</td>\n",
       "      <td>Did you ever reach out to your childhood crush...</td>\n",
       "      <td>AskWomen</td>\n",
       "    </tr>\n",
       "    <tr>\n",
       "      <th>78</th>\n",
       "      <td>SuperBeeboo</td>\n",
       "      <td>How do you know if a female boss is hitting on...</td>\n",
       "      <td>AskWomen</td>\n",
       "    </tr>\n",
       "    <tr>\n",
       "      <th>10</th>\n",
       "      <td>PoeticRaven</td>\n",
       "      <td>How do you usually show affection to your SO? ...</td>\n",
       "      <td>AskWomen</td>\n",
       "    </tr>\n",
       "    <tr>\n",
       "      <th>43</th>\n",
       "      <td>Health_andFashion</td>\n",
       "      <td>Career Oriented Women...How have you faired on...</td>\n",
       "      <td>AskWomen</td>\n",
       "    </tr>\n",
       "    <tr>\n",
       "      <th>3</th>\n",
       "      <td>adrock_99</td>\n",
       "      <td>How have your tinder experiences been?</td>\n",
       "      <td>AskWomen</td>\n",
       "    </tr>\n",
       "    <tr>\n",
       "      <th>13</th>\n",
       "      <td>behboosonly</td>\n",
       "      <td>How?</td>\n",
       "      <td>AskWomen</td>\n",
       "    </tr>\n",
       "    <tr>\n",
       "      <th>4</th>\n",
       "      <td>xoxogen</td>\n",
       "      <td>When should I go to the doctor?</td>\n",
       "      <td>AskWomen</td>\n",
       "    </tr>\n",
       "    <tr>\n",
       "      <th>55</th>\n",
       "      <td>adrock_99</td>\n",
       "      <td>How has porn affected your life?</td>\n",
       "      <td>AskWomen</td>\n",
       "    </tr>\n",
       "    <tr>\n",
       "      <th>70</th>\n",
       "      <td>ilikemyface3</td>\n",
       "      <td>You're given a magic eight ball that can answe...</td>\n",
       "      <td>AskWomen</td>\n",
       "    </tr>\n",
       "    <tr>\n",
       "      <th>23</th>\n",
       "      <td>AIIAEE</td>\n",
       "      <td>What are some real life terrible advice you ha...</td>\n",
       "      <td>AskWomen</td>\n",
       "    </tr>\n",
       "    <tr>\n",
       "      <th>24</th>\n",
       "      <td>Tiny-Click-5944</td>\n",
       "      <td>Get in where the getting is good</td>\n",
       "      <td>AskWomen</td>\n",
       "    </tr>\n",
       "    <tr>\n",
       "      <th>25</th>\n",
       "      <td>Tiny-Click-5944</td>\n",
       "      <td>Get in where the getting is good</td>\n",
       "      <td>AskWomen</td>\n",
       "    </tr>\n",
       "    <tr>\n",
       "      <th>96</th>\n",
       "      <td>KidOrenge</td>\n",
       "      <td>Girls who used to write fanfiction and watch a...</td>\n",
       "      <td>AskWomen</td>\n",
       "    </tr>\n",
       "    <tr>\n",
       "      <th>53</th>\n",
       "      <td>moist_bum</td>\n",
       "      <td>Do you use your pepper spray to season food wh...</td>\n",
       "      <td>AskWomen</td>\n",
       "    </tr>\n",
       "    <tr>\n",
       "      <th>79</th>\n",
       "      <td>AutoModerator</td>\n",
       "      <td>Casual Convo Fridays Every Friday, just say wh...</td>\n",
       "      <td>AskWomen</td>\n",
       "    </tr>\n",
       "    <tr>\n",
       "      <th>37</th>\n",
       "      <td>blondeandendless</td>\n",
       "      <td>How do you feel about men you don't know calli...</td>\n",
       "      <td>AskWomen</td>\n",
       "    </tr>\n",
       "    <tr>\n",
       "      <th>93</th>\n",
       "      <td>guy1799</td>\n",
       "      <td>How exactly do women pick up on a guy’s “vibe”?</td>\n",
       "      <td>AskWomen</td>\n",
       "    </tr>\n",
       "  </tbody>\n",
       "</table>\n",
       "</div>"
      ],
      "text/plain": [
       "                  author                                               post  \\\n",
       "20    Great_Classic_2804  I've lost myself in my relationship. Feel like...   \n",
       "58                sufy12           Have you ever been caught masturbating?    \n",
       "42          h3xadecimal2  AIs from AI Dungeon 2 to sexy to funny and one...   \n",
       "44          h3xadecimal2  AIs from AI Dungeon 2 to sexy to funny and one...   \n",
       "47          gay_gym_jock  In your experience, if you've gotten head from...   \n",
       "13            vandamnitt  Guys I’ve been debating this with m wife for e...   \n",
       "14            vandamnitt  Guys I’ve been debating this with m wife for e...   \n",
       "53                fmu_rn                          Why do guys like thighs?    \n",
       "5    heartofrosegold0112  Is your right to use porn in a relationship a ...   \n",
       "12     aliceinxxxxxxland  Would you give up porn for your perfect partner?    \n",
       "22            anananas23  Do guys mind if a girl has zero experience wit...   \n",
       "9          Thetreespeaks                 Do you guys do skincare? (Female)    \n",
       "52           kitten_0623                                      Car shopping    \n",
       "2       haroldofthenorth                   Does kissing count as cheating?    \n",
       "16        I_NEED_ADVICE-  I’m 16 years old 6,3 and very skinny and need ...   \n",
       "75              weekents       Would you date a girl who has an only fans?    \n",
       "69          h3xadecimal2  AIs from AI Dungeon 2 to sexy to funny and one...   \n",
       "29       Throwaway263970  Should I be concerned that I can’t pull back m...   \n",
       "42          h3xadecimal2  AIs from AI Dungeon 2 to sexy to funny and one...   \n",
       "88           proygratoke                        To all the fathers of boys    \n",
       "96           proygratoke                        To all the fathers of boys    \n",
       "19           proygratoke                        To all the fathers of boys    \n",
       "0      I_DontBeliveInGay                        Am i a sosiopath/psycopath    \n",
       "77      throwaway3981488  Do guys care about stretch marks and a little ...   \n",
       "63                m3___x                                     Advice needed    \n",
       "75        Great_Meat2971  I borrowed money from a wealthy friend, he sai...   \n",
       "43               -chepo-  What’s a good hairstyle for a U-shaped recedin...   \n",
       "11       NeckWestern5528                          How crazy is too crazy??    \n",
       "24            chizhi1234  Dear university students, have you ever feel l...   \n",
       "45          h3xadecimal2  AIs from AI Dungeon 2 to sexy to funny and one...   \n",
       "54           terriblelad  Men, have you ever felt guilty of carrying you...   \n",
       "78        TalesFiction88  What makes you change your feeling towards a g...   \n",
       "86             Murik0128                       Making My Girlfriend Orgasm    \n",
       "87         saltymarinara                     Sincere question from a woman    \n",
       "97          h3xadecimal2  AIs from AI Dungeon 2 to sexy to funny and one...   \n",
       "12           maketobreak  Would you invite strangers for dinner to your ...   \n",
       "82              speakwme  Is a threesome a bad idea for a loving marriage?    \n",
       "7       inquisitiverobot  What is something that you wish was an actual ...   \n",
       "59             girl2021_           How many pairs of underwear do you own?    \n",
       "19                ytrace          What are some unusual jobs you have had?    \n",
       "92               fcukmoe                            Why do people ghost???    \n",
       "22           hahaits2021       How has virtual therapy worked out for you?    \n",
       "50                vkzeff               Share your pleasing tweezer stories    \n",
       "64  After-Lavishness-584  How do you feel about men with unusually shape...   \n",
       "67      letsgetintoitken  What has been your experience with “pretty pri...   \n",
       "18          Amnesia_Dude  What is the best dating app/website just for g...   \n",
       "20        IN_A_WUHAN_LAB  What's been the funniest moment in your relati...   \n",
       "88           newtime9203   Why did I get blocked by my friend from school?    \n",
       "89       DiverseEthnic12   Why did I get blocked by my friend from school?    \n",
       "88               yenayer  يعاني البعض من بطء في استخدام جهاز الحاسوب ﻣﻊ ...   \n",
       "21               rx-78-9  How has the #metoo movement effected in your d...   \n",
       "65            quizbeexyz  What if we give Free 1000 premium accounts (Ag...   \n",
       "77         GreenScrubzor                                 What should I do?    \n",
       "18     beautiful_so_much  How to avoid family that is physically and men...   \n",
       "28           junglemango  Did you ever reach out to your childhood crush...   \n",
       "78           SuperBeeboo  How do you know if a female boss is hitting on...   \n",
       "10           PoeticRaven  How do you usually show affection to your SO? ...   \n",
       "43     Health_andFashion  Career Oriented Women...How have you faired on...   \n",
       "3              adrock_99            How have your tinder experiences been?    \n",
       "13           behboosonly                                              How?    \n",
       "4                xoxogen                   When should I go to the doctor?    \n",
       "55             adrock_99                  How has porn affected your life?    \n",
       "70          ilikemyface3  You're given a magic eight ball that can answe...   \n",
       "23                AIIAEE  What are some real life terrible advice you ha...   \n",
       "24       Tiny-Click-5944                  Get in where the getting is good    \n",
       "25       Tiny-Click-5944                  Get in where the getting is good    \n",
       "96             KidOrenge  Girls who used to write fanfiction and watch a...   \n",
       "53             moist_bum  Do you use your pepper spray to season food wh...   \n",
       "79         AutoModerator  Casual Convo Fridays Every Friday, just say wh...   \n",
       "37      blondeandendless  How do you feel about men you don't know calli...   \n",
       "93               guy1799   How exactly do women pick up on a guy’s “vibe”?    \n",
       "\n",
       "   subreddit  \n",
       "20    AskMen  \n",
       "58    AskMen  \n",
       "42    AskMen  \n",
       "44    AskMen  \n",
       "47    AskMen  \n",
       "13    AskMen  \n",
       "14    AskMen  \n",
       "53    AskMen  \n",
       "5     AskMen  \n",
       "12    AskMen  \n",
       "22    AskMen  \n",
       "9     AskMen  \n",
       "52    AskMen  \n",
       "2     AskMen  \n",
       "16    AskMen  \n",
       "75    AskMen  \n",
       "69    AskMen  \n",
       "29    AskMen  \n",
       "42    AskMen  \n",
       "88    AskMen  \n",
       "96    AskMen  \n",
       "19    AskMen  \n",
       "0     AskMen  \n",
       "77    AskMen  \n",
       "63    AskMen  \n",
       "75    AskMen  \n",
       "43    AskMen  \n",
       "11    AskMen  \n",
       "24    AskMen  \n",
       "45    AskMen  \n",
       "54    AskMen  \n",
       "78    AskMen  \n",
       "86    AskMen  \n",
       "87    AskMen  \n",
       "97    AskMen  \n",
       "12    AskMen  \n",
       "82    AskMen  \n",
       "7   AskWomen  \n",
       "59  AskWomen  \n",
       "19  AskWomen  \n",
       "92  AskWomen  \n",
       "22  AskWomen  \n",
       "50  AskWomen  \n",
       "64  AskWomen  \n",
       "67  AskWomen  \n",
       "18  AskWomen  \n",
       "20  AskWomen  \n",
       "88  AskWomen  \n",
       "89  AskWomen  \n",
       "88  AskWomen  \n",
       "21  AskWomen  \n",
       "65  AskWomen  \n",
       "77  AskWomen  \n",
       "18  AskWomen  \n",
       "28  AskWomen  \n",
       "78  AskWomen  \n",
       "10  AskWomen  \n",
       "43  AskWomen  \n",
       "3   AskWomen  \n",
       "13  AskWomen  \n",
       "4   AskWomen  \n",
       "55  AskWomen  \n",
       "70  AskWomen  \n",
       "23  AskWomen  \n",
       "24  AskWomen  \n",
       "25  AskWomen  \n",
       "96  AskWomen  \n",
       "53  AskWomen  \n",
       "79  AskWomen  \n",
       "37  AskWomen  \n",
       "93  AskWomen  "
      ]
     },
     "execution_count": 39,
     "metadata": {},
     "output_type": "execute_result"
    }
   ],
   "source": [
    "subreddits_dataframe[subreddits_dataframe.duplicated(['post'])]"
   ]
  },
  {
   "cell_type": "code",
   "execution_count": 40,
   "metadata": {},
   "outputs": [
    {
     "data": {
      "text/plain": [
       "52"
      ]
     },
     "execution_count": 40,
     "metadata": {},
     "output_type": "execute_result"
    }
   ],
   "source": [
    "subreddits_dataframe.duplicated().sum()"
   ]
  },
  {
   "cell_type": "markdown",
   "metadata": {},
   "source": [
    "The subreddit has 52 duplicated rows; I decide to drop them using this reference:\n",
    "https://pandas.pydata.org/pandas-docs/stable/reference/api/pandas.DataFrame.drop_duplicates.html"
   ]
  },
  {
   "cell_type": "code",
   "execution_count": 41,
   "metadata": {},
   "outputs": [],
   "source": [
    "subreddits_dataframe.drop_duplicates(subset=['post'], inplace=True)"
   ]
  },
  {
   "cell_type": "markdown",
   "metadata": {},
   "source": [
    "I am trying to build a model to predict if a post belong to the AskMen subreddit or the AskWomen subreddit. The subreddit is my target and subsequently I will need to build a confusion matrix and that for that reason, I will change the subreddit values to 0 and 1."
   ]
  },
  {
   "cell_type": "code",
   "execution_count": 42,
   "metadata": {},
   "outputs": [],
   "source": [
    "subreddits_dataframe['subreddit'] = subreddits_dataframe['subreddit'].map({'AskWomen': 1, 'AskMen': 0})"
   ]
  },
  {
   "cell_type": "markdown",
   "metadata": {},
   "source": [
    "I don't think the author column will be relevant to my analysis so I decide to drop it."
   ]
  },
  {
   "cell_type": "code",
   "execution_count": 43,
   "metadata": {},
   "outputs": [],
   "source": [
    "subreddits_dataframe.drop('author', axis= 1, inplace=True)"
   ]
  },
  {
   "cell_type": "markdown",
   "metadata": {},
   "source": [
    "One last step ! When I went I started the EDA, I realized that I had some arabic characters in post and also numbers that are not words. I looked on stackoverflow and found a line of code to remove those characters:\n",
    "https://stackoverflow.com/questions/36340627/remove-non-ascii-characters-from-pandas-column\n",
    "\n",
    "https://stackoverflow.com/questions/41719259/how-to-remove-numbers-from-string-terms-in-a-pandas-dataframe"
   ]
  },
  {
   "cell_type": "code",
   "execution_count": 56,
   "metadata": {},
   "outputs": [],
   "source": [
    "subreddits_dataframe.post.replace({r'[^\\x00-\\x7F]+':''}, regex=True, inplace=True)"
   ]
  },
  {
   "cell_type": "code",
   "execution_count": 70,
   "metadata": {},
   "outputs": [],
   "source": [
    "subreddits_dataframe['post'] = subreddits_dataframe['post'].str.replace('\\d+', '')"
   ]
  },
  {
   "cell_type": "code",
   "execution_count": 83,
   "metadata": {},
   "outputs": [],
   "source": [
    "subreddits_dataframe['post'] = subreddits_dataframe['post'].str.replace('___', '')"
   ]
  },
  {
   "cell_type": "markdown",
   "metadata": {},
   "source": [
    "## EDA"
   ]
  },
  {
   "cell_type": "markdown",
   "metadata": {},
   "source": [
    "let's now explore the words distribution in the AskMen and AskWomen subreddits. In order to do this I will create a common called 'word_count' that will be the number of word in each post:"
   ]
  },
  {
   "cell_type": "code",
   "execution_count": 84,
   "metadata": {},
   "outputs": [],
   "source": [
    "subreddits_dataframe['word_count'] = subreddits_dataframe['post'].apply(lambda x: len(x.split()))"
   ]
  },
  {
   "cell_type": "code",
   "execution_count": 85,
   "metadata": {},
   "outputs": [
    {
     "data": {
      "image/png": "[encoded data removed]",
      "text/plain": [
       "<Figure size 432x288 with 1 Axes>"
      ]
     },
     "metadata": {
      "needs_background": "light"
     },
     "output_type": "display_data"
    }
   ],
   "source": [
    "plt.hist(subreddits_dataframe[subreddits_dataframe['subreddit'] == 0]['word_count'])\n",
    "plt.xlim(0, 600)\n",
    "plt.title('Distribution of words in the AskMen subreddit')\n",
    "plt.xlabel('Word Count')\n",
    "plt.ylabel('Count');"
   ]
  },
  {
   "cell_type": "markdown",
   "metadata": {},
   "source": [
    "Most posts from the Askmen subreddit are between 1 and 100 words and we can observe a big drop in the number of post over 100 words. There are less than 50 posts above 300 words. Let's check the statistics: "
   ]
  },
  {
   "cell_type": "code",
   "execution_count": 86,
   "metadata": {},
   "outputs": [
    {
     "data": {
      "text/plain": [
       "count    1905.000000\n",
       "mean       37.677165\n",
       "std        67.786702\n",
       "min         1.000000\n",
       "25%         9.000000\n",
       "50%        14.000000\n",
       "75%        31.000000\n",
       "max       953.000000\n",
       "Name: word_count, dtype: float64"
      ]
     },
     "execution_count": 86,
     "metadata": {},
     "output_type": "execute_result"
    }
   ],
   "source": [
    "subreddits_dataframe[subreddits_dataframe['subreddit'] == 0]['word_count'].describe()"
   ]
  },
  {
   "cell_type": "markdown",
   "metadata": {},
   "source": [
    "We can see that 75% of the AskMen posts are between 1 and 31 words. The average word count is 38 words and the longest post has 960 words. It is not shown on the plot because I chose what I thought was an appropriate view of the distribution in regards to the X-axis. In this case any posts above 500 words would be outliers."
   ]
  },
  {
   "cell_type": "markdown",
   "metadata": {},
   "source": [
    "Let's observe the AskWomen distribution of word counts:"
   ]
  },
  {
   "cell_type": "code",
   "execution_count": 87,
   "metadata": {},
   "outputs": [
    {
     "data": {
      "image/png": "[encoded data removed]",
      "text/plain": [
       "<Figure size 432x288 with 1 Axes>"
      ]
     },
     "metadata": {
      "needs_background": "light"
     },
     "output_type": "display_data"
    }
   ],
   "source": [
    "plt.hist(subreddits_dataframe[subreddits_dataframe['subreddit'] == 1]['word_count'])\n",
    "plt.xlim(0, 600)\n",
    "plt.title('Distribution of words in the AskWomen subreddit')\n",
    "plt.xlabel('Word Count')\n",
    "plt.ylabel('Count');"
   ]
  },
  {
   "cell_type": "markdown",
   "metadata": {},
   "source": [
    "Again, most posts are between 1 and a little above 100 words. The women have less post above 100 than the men. Let's verify this with some statistics:"
   ]
  },
  {
   "cell_type": "code",
   "execution_count": 88,
   "metadata": {},
   "outputs": [
    {
     "data": {
      "text/plain": [
       "count    1910.000000\n",
       "mean       18.201571\n",
       "std        35.494541\n",
       "min         0.000000\n",
       "25%         9.000000\n",
       "50%        13.000000\n",
       "75%        20.000000\n",
       "max      1255.000000\n",
       "Name: word_count, dtype: float64"
      ]
     },
     "execution_count": 88,
     "metadata": {},
     "output_type": "execute_result"
    }
   ],
   "source": [
    "subreddits_dataframe[subreddits_dataframe['subreddit'] == 1]['word_count'].describe()"
   ]
  },
  {
   "cell_type": "markdown",
   "metadata": {},
   "source": [
    "The average post from the AskWomen subreddit has 36 words, a little bit less than the men. 75% of the posts are between 1 and 20 words and the longest post has 1257 words, definitely an outlier. I have to note that there are 5 post more from the AskWomen subreddit compared to the Askmen subreddit in the dataframe."
   ]
  },
  {
   "cell_type": "markdown",
   "metadata": {},
   "source": [
    "I looked at the word count distribution but that is just one aspect of my analysis. It is also interesting to see which words are more common than other depending on the subreddit. Which one are used a lot by both gender ?\n",
    "In order to perform an EDA on the words, I will need to count vectorize the posts and save it to a new dataframe:"
   ]
  },
  {
   "cell_type": "code",
   "execution_count": 89,
   "metadata": {},
   "outputs": [],
   "source": [
    "cvec = CountVectorizer(stop_words='english')"
   ]
  },
  {
   "cell_type": "markdown",
   "metadata": {},
   "source": [
    "Let's do it for the AskWomen subreddit first and then the AskMen; we'll save the results into two separate dataframe"
   ]
  },
  {
   "cell_type": "code",
   "execution_count": 90,
   "metadata": {},
   "outputs": [
    {
     "data": {
      "text/plain": [
       "CountVectorizer(stop_words='english')"
      ]
     },
     "execution_count": 90,
     "metadata": {},
     "output_type": "execute_result"
    }
   ],
   "source": [
    "cvec.fit(subreddits_dataframe[subreddits_dataframe['subreddit'] == 1]['post'])"
   ]
  },
  {
   "cell_type": "code",
   "execution_count": 91,
   "metadata": {},
   "outputs": [],
   "source": [
    "vectorized_ask_women = word_df = pd.DataFrame(cvec.transform(subreddits_dataframe[subreddits_dataframe['subreddit']\\\n",
    "                                                                                == 1]['post']).todense(),\n",
    "                                            columns = cvec.get_feature_names())\n",
    "                      "
   ]
  },
  {
   "cell_type": "code",
   "execution_count": 92,
   "metadata": {},
   "outputs": [],
   "source": [
    "cvec = CountVectorizer(stop_words='english')"
   ]
  },
  {
   "cell_type": "code",
   "execution_count": 93,
   "metadata": {},
   "outputs": [
    {
     "data": {
      "text/plain": [
       "CountVectorizer(stop_words='english')"
      ]
     },
     "execution_count": 93,
     "metadata": {},
     "output_type": "execute_result"
    }
   ],
   "source": [
    "cvec.fit(subreddits_dataframe[subreddits_dataframe['subreddit'] == 0]['post'])"
   ]
  },
  {
   "cell_type": "code",
   "execution_count": 94,
   "metadata": {},
   "outputs": [],
   "source": [
    "vectorized_ask_men = word_df = pd.DataFrame(cvec.transform(subreddits_dataframe[subreddits_dataframe['subreddit']\\\n",
    "                                                                                == 0]['post']).todense(),\n",
    "                                            columns = cvec.get_feature_names())"
   ]
  },
  {
   "cell_type": "markdown",
   "metadata": {},
   "source": [
    "We can now observe the 20 most common word in each subreddit:"
   ]
  },
  {
   "cell_type": "code",
   "execution_count": 96,
   "metadata": {},
   "outputs": [
    {
     "data": {
      "text/plain": [
       "women           388\n",
       "did             221\n",
       "like            202\n",
       "feel            153\n",
       "men             117\n",
       "know            109\n",
       "relationship    108\n",
       "does            105\n",
       "man              92\n",
       "just             91\n",
       "ladies           88\n",
       "sex              84\n",
       "partner          83\n",
       "think            82\n",
       "reddit           80\n",
       "guy              79\n",
       "friends          79\n",
       "love             78\n",
       "want             74\n",
       "share            74\n",
       "dtype: int64"
      ]
     },
     "execution_count": 96,
     "metadata": {},
     "output_type": "execute_result"
    }
   ],
   "source": [
    "vectorized_ask_women.sum().sort_values(ascending=False).head(20)"
   ]
  },
  {
   "cell_type": "markdown",
   "metadata": {},
   "source": [
    "These are the 20 most common words in the posts from the AskWomen subreddit. Women is the word used the most with words like feel, like, men, relationship. Without being cliché, this is definitely representative. One exception here is \"did\" which should be a stop word. Let's represent it with a bar chart:"
   ]
  },
  {
   "cell_type": "code",
   "execution_count": 107,
   "metadata": {},
   "outputs": [],
   "source": [
    "common_word_women = vectorized_ask_women.sum().sort_values(ascending=False).head(20)"
   ]
  },
  {
   "cell_type": "code",
   "execution_count": 117,
   "metadata": {
    "scrolled": true
   },
   "outputs": [
    {
     "data": {
      "image/png": "[encoded data removed]",
      "text/plain": [
       "<Figure size 864x576 with 1 Axes>"
      ]
     },
     "metadata": {
      "needs_background": "light"
     },
     "output_type": "display_data"
    }
   ],
   "source": [
    "plt.figure(figsize=(12, 8))\n",
    "common_word_women.plot(kind='barh')\n",
    "plt.title('The 20 most used words from the AskWomen subreddit')\n",
    "plt.xlabel('Most Common Words')\n",
    "plt.ylabel('Count');"
   ]
  },
  {
   "cell_type": "markdown",
   "metadata": {},
   "source": [
    "Let's now observe the 20 most common words from the AskMen subreddit:"
   ]
  },
  {
   "cell_type": "code",
   "execution_count": 111,
   "metadata": {},
   "outputs": [
    {
     "data": {
      "text/plain": [
       "men        460\n",
       "like       415\n",
       "just       410\n",
       "feel       249\n",
       "know       247\n",
       "guys       214\n",
       "want       211\n",
       "time       209\n",
       "im         205\n",
       "really     195\n",
       "women      184\n",
       "think      183\n",
       "don        178\n",
       "did        174\n",
       "girl       157\n",
       "life       148\n",
       "people     146\n",
       "friends    144\n",
       "reddit     142\n",
       "ve         141\n",
       "dtype: int64"
      ]
     },
     "execution_count": 111,
     "metadata": {},
     "output_type": "execute_result"
    }
   ],
   "source": [
    "vectorized_ask_men.sum().sort_values(ascending=False).head(20)"
   ]
  },
  {
   "cell_type": "markdown",
   "metadata": {},
   "source": [
    "The most common word is men. This is one similarity between both subreddit; men talk about men and women talk about women; pretty obvious! Other than that, the word like, just, feel and know are pretty recurrent. Let's visualize this with a chart as welll:"
   ]
  },
  {
   "cell_type": "code",
   "execution_count": 112,
   "metadata": {},
   "outputs": [],
   "source": [
    "common_word_men = vectorized_ask_men.sum().sort_values(ascending=False).head(20)"
   ]
  },
  {
   "cell_type": "code",
   "execution_count": 118,
   "metadata": {},
   "outputs": [
    {
     "data": {
      "image/png": "[encoded data removed]",
      "text/plain": [
       "<Figure size 1152x864 with 1 Axes>"
      ]
     },
     "metadata": {
      "needs_background": "light"
     },
     "output_type": "display_data"
    }
   ],
   "source": [
    "plt.figure(figsize=(16, 12))\n",
    "common_word_men.plot(kind='barh')\n",
    "plt.title('The 20 most used words from the Askmen subreddit')\n",
    "plt.xlabel('Most Common Words')\n",
    "plt.ylabel('Count');"
   ]
  },
  {
   "cell_type": "markdown",
   "metadata": {},
   "source": [
    "Even though the distribution of word counts and the observation of the most common words gives pretty similar results, we still can observe some differences and I'm confident that I'll be able to fit a model to predict where a post would be classified to. But first I must take some appropriate steps."
   ]
  },
  {
   "cell_type": "code",
   "execution_count": 114,
   "metadata": {},
   "outputs": [],
   "source": [
    "subreddits_dataframe.to_csv('data/subreddits_df')"
   ]
  },
  {
   "cell_type": "markdown",
   "metadata": {},
   "source": [
    "I save the dataframe to a csv file with all the current changes"
   ]
  },
  {
   "cell_type": "code",
   "execution_count": null,
   "metadata": {},
   "outputs": [],
   "source": []
  }
 ],
 "metadata": {
  "kernelspec": {
   "display_name": "Python 3",
   "language": "python",
   "name": "python3"
  },
  "language_info": {
   "codemirror_mode": {
    "name": "ipython",
    "version": 3
   },
   "file_extension": ".py",
   "mimetype": "text/x-python",
   "name": "python",
   "nbconvert_exporter": "python",
   "pygments_lexer": "ipython3",
   "version": "3.8.5"
  }
 },
 "nbformat": 4,
 "nbformat_minor": 4
}
